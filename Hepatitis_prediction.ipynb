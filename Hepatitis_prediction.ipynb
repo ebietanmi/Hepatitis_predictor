{
 "cells": [
  {
   "cell_type": "code",
   "execution_count": 919,
   "metadata": {},
   "outputs": [],
   "source": [
    "import pandas as pd\n",
    "import numpy as np\n",
    "from sklearn.tree import DecisionTreeClassifier\n",
    "from sklearn import tree\n",
    "# from sklearn.model_selection import train_test_split\n",
    "# from sklearn.metrics import accuracy_score\n",
    "# from sklearn.preprocessing import LabelEncoder\n",
    "from sklearn.externals import joblib # for saving the model\n"
   ]
  },
  {
   "cell_type": "code",
   "execution_count": 821,
   "metadata": {},
   "outputs": [],
   "source": [
    "dataset = pd.read_csv('../datasets/hepatitis.csv',\n",
    "dtype={\"antivirals\":int,\"malaise\":int,\"steroid\":int,\"fatigue\":int,\"anorexia\":int,\"liver_big\":int,\"liver_firm\":int,\n",
    "      \"spleen_palpable\":int,\"spiders\":int,\"spiders\":int,\"varices\":int,\"ascites\":int,\"histology\":int})\n",
    "dataset[\"sex\"].replace([\"female\",\"male\"],[0,1], inplace=True)"
   ]
  },
  {
   "cell_type": "code",
   "execution_count": 909,
   "metadata": {
    "scrolled": false
   },
   "outputs": [
    {
     "data": {
      "text/plain": [
       "['Hepatitis_predictictor.joblib']"
      ]
     },
     "execution_count": 909,
     "metadata": {},
     "output_type": "execute_result"
    }
   ],
   "source": [
    "dataset.dropna(axis=0,inplace=True) #here we are dropping the null data\n",
    "x = dataset.drop( columns= \"class\")\n",
    "y = dataset[\"class\"]\n",
    "# x_train,x_test,y_train,y_test = train_test_split(x,y, test_size= 0.1)\n",
    "model = DecisionTreeClassifier()\n",
    "# model.fit(x_train,y_train)  for accuracy checking\n",
    "model.fit(x,y)\n",
    "# predictions = model.predict([[1,1,1,1,1,0,0,0,1,1,1,1,0,1.4,50,45,46,1,3]])\n",
    "# predictions\n",
    "# accuracy = accuracy_score(y_test,predictions) accuracy cheking\n",
    "# dataset\n"
   ]
  },
  {
   "cell_type": "code",
   "execution_count": null,
   "metadata": {},
   "outputs": [],
   "source": [
    " #storing the model for reuse\n",
    "joblib.dump(model,'Hepatitis_predictictor.joblib')"
   ]
  },
  {
   "cell_type": "code",
   "execution_count": 922,
   "metadata": {},
   "outputs": [],
   "source": [
    "#decison tree of ow decision are made\n",
    "names = []\n",
    "for name in x:\n",
    "    names.append(name)\n",
    "tree.export_graphviz(model,out_file=\"Hepatitis_predictor.dot\",\n",
    "                   feature_names=names,class_names=y.unique(),\n",
    "                   label=\"all\",rounded=True,filled=True)\n",
    " "
   ]
  },
  {
   "cell_type": "code",
   "execution_count": null,
   "metadata": {},
   "outputs": [],
   "source": []
  }
 ],
 "metadata": {
  "kernelspec": {
   "display_name": "Python 3",
   "language": "python",
   "name": "python3"
  },
  "language_info": {
   "codemirror_mode": {
    "name": "ipython",
    "version": 3
   },
   "file_extension": ".py",
   "mimetype": "text/x-python",
   "name": "python",
   "nbconvert_exporter": "python",
   "pygments_lexer": "ipython3",
   "version": "3.7.3"
  }
 },
 "nbformat": 4,
 "nbformat_minor": 2
}
